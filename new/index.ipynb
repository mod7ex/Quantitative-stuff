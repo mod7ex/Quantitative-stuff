{
 "cells": [
  {
   "cell_type": "code",
   "execution_count": 1,
   "metadata": {},
   "outputs": [],
   "source": [
    "from backtesting import Strategy\n",
    "from backtesting.lib import crossover\n",
    "\n",
    "class MovingAverageCrossStrategy(Strategy):\n",
    "    def init(self):\n",
    "        # Calculate the moving averages and cache them\n",
    "        self.sma_short = self.I(self.moving_average, self.data.Close, 10)\n",
    "        self.sma_long = self.I(self.moving_average, self.data.Close, 20)\n",
    "\n",
    "    def moving_average(self, data, period):\n",
    "        return data.rolling(period).mean()\n",
    "\n",
    "    def next(self):\n",
    "        # Trading logic: Buy when short MA crosses above long MA; sell when opposite\n",
    "        if crossover(self.sma_short, self.sma_long):\n",
    "            self.buy()\n",
    "        elif crossover(self.sma_long, self.sma_short):\n",
    "            self.sell()\n"
   ]
  }
 ],
 "metadata": {
  "kernelspec": {
   "display_name": "Python 3",
   "language": "python",
   "name": "python3"
  },
  "language_info": {
   "codemirror_mode": {
    "name": "ipython",
    "version": 3
   },
   "file_extension": ".py",
   "mimetype": "text/x-python",
   "name": "python",
   "nbconvert_exporter": "python",
   "pygments_lexer": "ipython3",
   "version": "3.10.12"
  }
 },
 "nbformat": 4,
 "nbformat_minor": 2
}
