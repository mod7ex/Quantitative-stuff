{
 "cells": [
  {
   "cell_type": "code",
   "execution_count": 514,
   "metadata": {},
   "outputs": [],
   "source": [
    "from matplotlib import pyplot as plt\n",
    "from matplotlib import dates as mpl_dates\n",
    "import yfinance as yf\n",
    "import pandas as pd\n",
    "import numpy as np\n",
    "import os\n",
    "from scipy.stats import norm\n",
    "\n",
    "plt.style.use('Solarize_Light2')"
   ]
  },
  {
   "cell_type": "markdown",
   "metadata": {},
   "source": [
    "### Constants"
   ]
  },
  {
   "cell_type": "code",
   "execution_count": 515,
   "metadata": {},
   "outputs": [],
   "source": [
    "WINDOW = 21\n",
    "\n",
    "n_ema = f\"{WINDOW}-EMA\""
   ]
  },
  {
   "cell_type": "markdown",
   "metadata": {},
   "source": [
    "### Loading data"
   ]
  },
  {
   "cell_type": "code",
   "execution_count": 516,
   "metadata": {},
   "outputs": [],
   "source": [
    "if os.path.exists(\"data.csv\"):\n",
    "    df = pd.read_csv(\"data.csv\", index_col=0)\n",
    "else:\n",
    "    gold_ticker = yf.Ticker(\"GC=F\")\n",
    "    df = gold_ticker.history(period=\"max\", interval='1h')\n",
    "    df.to_csv(\"data.csv\")\n",
    "\n",
    "df.index = pd.to_datetime(df.index, utc=True)\n",
    "\n",
    "df.drop(columns=['Volume', 'Dividends', 'Stock Splits'], inplace=True)\n",
    "df.columns = df.columns.str.lower()\n",
    "\n",
    "# display(df.shape)\n",
    "# display(df.head(3))"
   ]
  },
  {
   "cell_type": "markdown",
   "metadata": {},
   "source": [
    "### Creating needed metrics"
   ]
  },
  {
   "cell_type": "code",
   "execution_count": 517,
   "metadata": {},
   "outputs": [
    {
     "data": {
      "text/html": [
       "<div>\n",
       "<style scoped>\n",
       "    .dataframe tbody tr th:only-of-type {\n",
       "        vertical-align: middle;\n",
       "    }\n",
       "\n",
       "    .dataframe tbody tr th {\n",
       "        vertical-align: top;\n",
       "    }\n",
       "\n",
       "    .dataframe thead th {\n",
       "        text-align: right;\n",
       "    }\n",
       "</style>\n",
       "<table border=\"1\" class=\"dataframe\">\n",
       "  <thead>\n",
       "    <tr style=\"text-align: right;\">\n",
       "      <th></th>\n",
       "      <th>open</th>\n",
       "      <th>high</th>\n",
       "      <th>low</th>\n",
       "      <th>close</th>\n",
       "      <th>21-EMA</th>\n",
       "      <th>200-EMA</th>\n",
       "      <th>bb_low</th>\n",
       "    </tr>\n",
       "    <tr>\n",
       "      <th>Datetime</th>\n",
       "      <th></th>\n",
       "      <th></th>\n",
       "      <th></th>\n",
       "      <th></th>\n",
       "      <th></th>\n",
       "      <th></th>\n",
       "      <th></th>\n",
       "    </tr>\n",
       "  </thead>\n",
       "  <tbody>\n",
       "    <tr>\n",
       "      <th>2022-10-03 18:00:00+00:00</th>\n",
       "      <td>1703.900024</td>\n",
       "      <td>1709.400024</td>\n",
       "      <td>1703.400024</td>\n",
       "      <td>1708.400024</td>\n",
       "      <td>1679.636097</td>\n",
       "      <td>1669.889872</td>\n",
       "      <td>1645.482472</td>\n",
       "    </tr>\n",
       "    <tr>\n",
       "      <th>2022-10-03 19:00:00+00:00</th>\n",
       "      <td>1708.400024</td>\n",
       "      <td>1710.400024</td>\n",
       "      <td>1704.199951</td>\n",
       "      <td>1709.400024</td>\n",
       "      <td>1681.869175</td>\n",
       "      <td>1670.231266</td>\n",
       "      <td>1643.616601</td>\n",
       "    </tr>\n",
       "    <tr>\n",
       "      <th>2022-10-03 20:00:00+00:00</th>\n",
       "      <td>1709.300049</td>\n",
       "      <td>1710.000000</td>\n",
       "      <td>1707.400024</td>\n",
       "      <td>1708.599976</td>\n",
       "      <td>1684.190161</td>\n",
       "      <td>1670.601105</td>\n",
       "      <td>1641.633628</td>\n",
       "    </tr>\n",
       "    <tr>\n",
       "      <th>2022-10-03 22:00:00+00:00</th>\n",
       "      <td>1708.400024</td>\n",
       "      <td>1710.900024</td>\n",
       "      <td>1707.000000</td>\n",
       "      <td>1709.300049</td>\n",
       "      <td>1686.263783</td>\n",
       "      <td>1670.963283</td>\n",
       "      <td>1640.477778</td>\n",
       "    </tr>\n",
       "    <tr>\n",
       "      <th>2022-10-03 23:00:00+00:00</th>\n",
       "      <td>1709.199951</td>\n",
       "      <td>1711.599976</td>\n",
       "      <td>1708.800049</td>\n",
       "      <td>1710.000000</td>\n",
       "      <td>1688.312534</td>\n",
       "      <td>1671.339768</td>\n",
       "      <td>1639.594824</td>\n",
       "    </tr>\n",
       "  </tbody>\n",
       "</table>\n",
       "</div>"
      ],
      "text/plain": [
       "                                  open         high          low        close  \\\n",
       "Datetime                                                                        \n",
       "2022-10-03 18:00:00+00:00  1703.900024  1709.400024  1703.400024  1708.400024   \n",
       "2022-10-03 19:00:00+00:00  1708.400024  1710.400024  1704.199951  1709.400024   \n",
       "2022-10-03 20:00:00+00:00  1709.300049  1710.000000  1707.400024  1708.599976   \n",
       "2022-10-03 22:00:00+00:00  1708.400024  1710.900024  1707.000000  1709.300049   \n",
       "2022-10-03 23:00:00+00:00  1709.199951  1711.599976  1708.800049  1710.000000   \n",
       "\n",
       "                                21-EMA      200-EMA       bb_low  \n",
       "Datetime                                                          \n",
       "2022-10-03 18:00:00+00:00  1679.636097  1669.889872  1645.482472  \n",
       "2022-10-03 19:00:00+00:00  1681.869175  1670.231266  1643.616601  \n",
       "2022-10-03 20:00:00+00:00  1684.190161  1670.601105  1641.633628  \n",
       "2022-10-03 22:00:00+00:00  1686.263783  1670.963283  1640.477778  \n",
       "2022-10-03 23:00:00+00:00  1688.312534  1671.339768  1639.594824  "
      ]
     },
     "execution_count": 517,
     "metadata": {},
     "output_type": "execute_result"
    }
   ],
   "source": [
    "df[n_ema] = df['low'].ewm(span=WINDOW, adjust=False).mean()\n",
    "df[\"200-EMA\"] = df['low'].ewm(span=200, adjust=False).mean()\n",
    "df['bb_low'] = df[n_ema] - 3 * df['low'].rolling(window=WINDOW).std()\n",
    "\n",
    "df.dropna(inplace=True)\n",
    "\n",
    "df.head()"
   ]
  },
  {
   "cell_type": "markdown",
   "metadata": {},
   "source": [
    "### Strategy"
   ]
  },
  {
   "cell_type": "code",
   "execution_count": 518,
   "metadata": {},
   "outputs": [],
   "source": [
    "SIGNALS = {\n",
    "    'BUY': 1,\n",
    "    'SELL': -1\n",
    "}\n",
    "\n",
    "# sell_filter = (df['200-EMA'] > df[n_ema])\n",
    "buy_filter = (df['200-EMA'] < df[n_ema]) & (df['low'] < df['200-EMA'])\n",
    "\n",
    "df['Signal'] = 0  # Default to hold/no position\n",
    "df.loc[buy_filter, 'Signal'] = SIGNALS['BUY']\n",
    "# df.loc[sell_filter, 'Signal'] = SIGNALS['SELL']"
   ]
  },
  {
   "cell_type": "code",
   "execution_count": 519,
   "metadata": {},
   "outputs": [],
   "source": [
    "df.reset_index(inplace=True)\n",
    "\n",
    "df['PnL'] = 0.0\n",
    "\n",
    "is_trade_on = False\n",
    "\n",
    "entry = 0.0\n",
    "sl = 0.0\n",
    "tp = 0.0\n",
    "\n",
    "def trade_off():\n",
    "    global is_trade_on\n",
    "    global entry\n",
    "    global sl\n",
    "\n",
    "    is_trade_on = False\n",
    "    entry = 0.0\n",
    "    sl = 0.0\n",
    "\n",
    "# Loop through candles and execute trades\n",
    "for i, row in df.iterrows(): # row for reading, i for writing\n",
    "    if is_trade_on:\n",
    "        is_long = tp - sl > 0\n",
    "        if is_long:\n",
    "            if row['low'] <= sl:\n",
    "                df.loc[i, 'PnL'] = -1\n",
    "                trade_off()\n",
    "            if row['high'] > tp:\n",
    "                df.loc[i, 'PnL'] = 1\n",
    "                trade_off()\n",
    "        else:\n",
    "            if row['high'] >= sl:\n",
    "                df.loc[i, 'PnL'] = -1\n",
    "                trade_off()\n",
    "            if row['low'] < tp:\n",
    "                df.loc[i, 'PnL'] = 1\n",
    "                trade_off()\n",
    "    else:\n",
    "        if row['Signal'] == SIGNALS['BUY']:\n",
    "            is_trade_on = True\n",
    "            entry = row['close']\n",
    "            sl = row['bb_low']\n",
    "            tp = entry + (entry - sl)\n",
    "            # if row['low'] <= sl: # instant check\n",
    "            #     df.loc[i, 'PnL'] = -1\n",
    "            #     trade_off()\n",
    "\n",
    "        # if row['Signal'] == SIGNALS['SELL']:\n",
    "        #     is_trade_on = True\n",
    "        #     entry = row[n_ema] + PRICE_DEVIATION['HIGH']\n",
    "        #     sl = entry + TRADE_OPTIONS['SL']\n",
    "        #     tp = entry - TRADE_OPTIONS['TP']\n",
    "        #     if row['high'] >= sl: # instant check\n",
    "        #         df.loc[i, 'PnL'] = -1\n",
    "        #         trade_off()"
   ]
  },
  {
   "cell_type": "code",
   "execution_count": 520,
   "metadata": {},
   "outputs": [
    {
     "data": {
      "text/html": [
       "<div>\n",
       "<style scoped>\n",
       "    .dataframe tbody tr th:only-of-type {\n",
       "        vertical-align: middle;\n",
       "    }\n",
       "\n",
       "    .dataframe tbody tr th {\n",
       "        vertical-align: top;\n",
       "    }\n",
       "\n",
       "    .dataframe thead th {\n",
       "        text-align: right;\n",
       "    }\n",
       "</style>\n",
       "<table border=\"1\" class=\"dataframe\">\n",
       "  <thead>\n",
       "    <tr style=\"text-align: right;\">\n",
       "      <th></th>\n",
       "      <th>proportion</th>\n",
       "    </tr>\n",
       "    <tr>\n",
       "      <th>PnL</th>\n",
       "      <th></th>\n",
       "    </tr>\n",
       "  </thead>\n",
       "  <tbody>\n",
       "    <tr>\n",
       "      <th>1.0</th>\n",
       "      <td>0.531915</td>\n",
       "    </tr>\n",
       "    <tr>\n",
       "      <th>-1.0</th>\n",
       "      <td>0.468085</td>\n",
       "    </tr>\n",
       "  </tbody>\n",
       "</table>\n",
       "</div>"
      ],
      "text/plain": [
       "      proportion\n",
       "PnL             \n",
       " 1.0    0.531915\n",
       "-1.0    0.468085"
      ]
     },
     "execution_count": 520,
     "metadata": {},
     "output_type": "execute_result"
    }
   ],
   "source": [
    "df.loc[df['PnL'] != 0, 'PnL'].value_counts(normalize=True).to_frame()"
   ]
  },
  {
   "cell_type": "code",
   "execution_count": 521,
   "metadata": {},
   "outputs": [
    {
     "data": {
      "text/plain": [
       "94"
      ]
     },
     "execution_count": 521,
     "metadata": {},
     "output_type": "execute_result"
    }
   ],
   "source": [
    "df[df['PnL'] != 0]['PnL'].count()"
   ]
  },
  {
   "cell_type": "code",
   "execution_count": 522,
   "metadata": {},
   "outputs": [
    {
     "data": {
      "text/plain": [
       "6.0"
      ]
     },
     "execution_count": 522,
     "metadata": {},
     "output_type": "execute_result"
    }
   ],
   "source": [
    "df['Cumulative_PnL'] = df['PnL'].cumsum()\n",
    "\n",
    "df['Cumulative_PnL'].iloc[-1]"
   ]
  },
  {
   "cell_type": "code",
   "execution_count": 523,
   "metadata": {},
   "outputs": [
    {
     "data": {
      "image/png": "[encoded data removed]",
      "text/plain": [
       "<Figure size 2000x500 with 1 Axes>"
      ]
     },
     "metadata": {},
     "output_type": "display_data"
    }
   ],
   "source": [
    "df.set_index('Datetime', inplace=True)\n",
    "\n",
    "# Plot the Strategy returns\n",
    "df['Cumulative_PnL'].plot(\n",
    "        label='Strategy', \n",
    "        figsize=(20, 5), \n",
    "        color='blue', \n",
    "        xlabel='',\n",
    "        ylabel='RR | %'\n",
    "    )\n",
    "\n",
    "plt.gcf().autofmt_xdate()\n",
    "date_format = mpl_dates.DateFormatter(\"%b, %d %Y\")\n",
    "plt.gca().xaxis.set_major_formatter(date_format)"
   ]
  }
 ],
 "metadata": {
  "kernelspec": {
   "display_name": "Python 3",
   "language": "python",
   "name": "python3"
  },
  "language_info": {
   "codemirror_mode": {
    "name": "ipython",
    "version": 3
   },
   "file_extension": ".py",
   "mimetype": "text/x-python",
   "name": "python",
   "nbconvert_exporter": "python",
   "pygments_lexer": "ipython3",
   "version": "3.10.12"
  }
 },
 "nbformat": 4,
 "nbformat_minor": 2
}
