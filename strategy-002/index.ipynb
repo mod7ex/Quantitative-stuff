{
 "cells": [
  {
   "cell_type": "code",
   "execution_count": 60,
   "metadata": {},
   "outputs": [],
   "source": [
    "from matplotlib import pyplot as plt\n",
    "import yfinance as yf\n",
    "import pandas as pd\n",
    "import numpy as np\n",
    "import os\n",
    "from scipy.stats import norm\n",
    "\n",
    "plt.style.use('Solarize_Light2')"
   ]
  },
  {
   "cell_type": "markdown",
   "metadata": {},
   "source": [
    "### Constants"
   ]
  },
  {
   "cell_type": "code",
   "execution_count": 61,
   "metadata": {},
   "outputs": [],
   "source": [
    "WINDOW = 21\n",
    "\n",
    "n_ema_high = f\"{WINDOW}-EMA_high\"\n",
    "n_ema_low = f\"{WINDOW}-EMA_low\""
   ]
  },
  {
   "cell_type": "markdown",
   "metadata": {},
   "source": [
    "### Loading data"
   ]
  },
  {
   "cell_type": "code",
   "execution_count": 62,
   "metadata": {},
   "outputs": [],
   "source": [
    "if os.path.exists(\"data.csv\"):\n",
    "    df = pd.read_csv(\"data.csv\", index_col=0)\n",
    "else:\n",
    "    gold_ticker = yf.Ticker(\"GC=F\")\n",
    "    df = gold_ticker.history(period=\"max\", interval='1h')\n",
    "    df.to_csv(\"data.csv\")\n",
    "\n",
    "df.index = pd.to_datetime(df.index, utc=True)\n",
    "\n",
    "df.drop(columns=['Volume', 'Dividends', 'Stock Splits'], inplace=True)\n",
    "df.columns = df.columns.str.lower()\n",
    "\n",
    "# display(df.shape)\n",
    "# display(df.head(3))"
   ]
  },
  {
   "cell_type": "markdown",
   "metadata": {},
   "source": [
    "### Creating needed metrics"
   ]
  },
  {
   "cell_type": "code",
   "execution_count": 64,
   "metadata": {},
   "outputs": [
    {
     "data": {
      "text/html": [
       "<div>\n",
       "<style scoped>\n",
       "    .dataframe tbody tr th:only-of-type {\n",
       "        vertical-align: middle;\n",
       "    }\n",
       "\n",
       "    .dataframe tbody tr th {\n",
       "        vertical-align: top;\n",
       "    }\n",
       "\n",
       "    .dataframe thead th {\n",
       "        text-align: right;\n",
       "    }\n",
       "</style>\n",
       "<table border=\"1\" class=\"dataframe\">\n",
       "  <thead>\n",
       "    <tr style=\"text-align: right;\">\n",
       "      <th></th>\n",
       "      <th>open</th>\n",
       "      <th>high</th>\n",
       "      <th>low</th>\n",
       "      <th>close</th>\n",
       "      <th>21-EMA_high</th>\n",
       "      <th>extension_high</th>\n",
       "      <th>21-EMA_low</th>\n",
       "      <th>extension_low</th>\n",
       "    </tr>\n",
       "    <tr>\n",
       "      <th>Datetime</th>\n",
       "      <th></th>\n",
       "      <th></th>\n",
       "      <th></th>\n",
       "      <th></th>\n",
       "      <th></th>\n",
       "      <th></th>\n",
       "      <th></th>\n",
       "      <th></th>\n",
       "    </tr>\n",
       "  </thead>\n",
       "  <tbody>\n",
       "    <tr>\n",
       "      <th>2024-09-30 13:00:00+00:00</th>\n",
       "      <td>2660.800049</td>\n",
       "      <td>2663.600098</td>\n",
       "      <td>2651.699951</td>\n",
       "      <td>2657.100098</td>\n",
       "      <td>2677.132229</td>\n",
       "      <td>0.0</td>\n",
       "      <td>2668.969542</td>\n",
       "      <td>-17.269591</td>\n",
       "    </tr>\n",
       "    <tr>\n",
       "      <th>2024-09-30 14:00:00+00:00</th>\n",
       "      <td>2657.000000</td>\n",
       "      <td>2657.899902</td>\n",
       "      <td>2650.199951</td>\n",
       "      <td>2655.000000</td>\n",
       "      <td>2675.383836</td>\n",
       "      <td>0.0</td>\n",
       "      <td>2667.263215</td>\n",
       "      <td>-17.063264</td>\n",
       "    </tr>\n",
       "    <tr>\n",
       "      <th>2024-09-30 15:00:00+00:00</th>\n",
       "      <td>2655.100098</td>\n",
       "      <td>2658.100098</td>\n",
       "      <td>2652.000000</td>\n",
       "      <td>2655.300049</td>\n",
       "      <td>2673.812587</td>\n",
       "      <td>0.0</td>\n",
       "      <td>2665.875650</td>\n",
       "      <td>-13.875650</td>\n",
       "    </tr>\n",
       "    <tr>\n",
       "      <th>2024-09-30 16:00:00+00:00</th>\n",
       "      <td>2655.500000</td>\n",
       "      <td>2661.000000</td>\n",
       "      <td>2654.899902</td>\n",
       "      <td>2660.800049</td>\n",
       "      <td>2672.647806</td>\n",
       "      <td>0.0</td>\n",
       "      <td>2664.877855</td>\n",
       "      <td>-9.977953</td>\n",
       "    </tr>\n",
       "    <tr>\n",
       "      <th>2024-09-30 17:00:00+00:00</th>\n",
       "      <td>2660.800049</td>\n",
       "      <td>2663.399902</td>\n",
       "      <td>2657.800049</td>\n",
       "      <td>2660.199951</td>\n",
       "      <td>2671.807088</td>\n",
       "      <td>0.0</td>\n",
       "      <td>2664.234418</td>\n",
       "      <td>-6.434369</td>\n",
       "    </tr>\n",
       "  </tbody>\n",
       "</table>\n",
       "</div>"
      ],
      "text/plain": [
       "                                  open         high          low        close  \\\n",
       "Datetime                                                                        \n",
       "2024-09-30 13:00:00+00:00  2660.800049  2663.600098  2651.699951  2657.100098   \n",
       "2024-09-30 14:00:00+00:00  2657.000000  2657.899902  2650.199951  2655.000000   \n",
       "2024-09-30 15:00:00+00:00  2655.100098  2658.100098  2652.000000  2655.300049   \n",
       "2024-09-30 16:00:00+00:00  2655.500000  2661.000000  2654.899902  2660.800049   \n",
       "2024-09-30 17:00:00+00:00  2660.800049  2663.399902  2657.800049  2660.199951   \n",
       "\n",
       "                           21-EMA_high  extension_high   21-EMA_low  \\\n",
       "Datetime                                                              \n",
       "2024-09-30 13:00:00+00:00  2677.132229             0.0  2668.969542   \n",
       "2024-09-30 14:00:00+00:00  2675.383836             0.0  2667.263215   \n",
       "2024-09-30 15:00:00+00:00  2673.812587             0.0  2665.875650   \n",
       "2024-09-30 16:00:00+00:00  2672.647806             0.0  2664.877855   \n",
       "2024-09-30 17:00:00+00:00  2671.807088             0.0  2664.234418   \n",
       "\n",
       "                           extension_low  \n",
       "Datetime                                  \n",
       "2024-09-30 13:00:00+00:00     -17.269591  \n",
       "2024-09-30 14:00:00+00:00     -17.063264  \n",
       "2024-09-30 15:00:00+00:00     -13.875650  \n",
       "2024-09-30 16:00:00+00:00      -9.977953  \n",
       "2024-09-30 17:00:00+00:00      -6.434369  "
      ]
     },
     "execution_count": 64,
     "metadata": {},
     "output_type": "execute_result"
    }
   ],
   "source": [
    "df[n_ema_high] = df['high'].ewm(span=WINDOW, adjust=False).mean()\n",
    "df['extension_high'] = np.where(df['high'] > df[n_ema_high], df['high'] - df[n_ema_high], 0)\n",
    "\n",
    "df[n_ema_low] = df['low'].ewm(span=WINDOW, adjust=False).mean()\n",
    "df['extension_low'] = np.where(df['low'] < df[n_ema_low], df['low'] - df[n_ema_low], 0)\n",
    "\n",
    "df.tail()"
   ]
  },
  {
   "cell_type": "markdown",
   "metadata": {},
   "source": [
    "### Looking for an Edge"
   ]
  },
  {
   "cell_type": "code",
   "execution_count": 65,
   "metadata": {},
   "outputs": [
    {
     "data": {
      "text/html": [
       "<div>\n",
       "<style scoped>\n",
       "    .dataframe tbody tr th:only-of-type {\n",
       "        vertical-align: middle;\n",
       "    }\n",
       "\n",
       "    .dataframe tbody tr th {\n",
       "        vertical-align: top;\n",
       "    }\n",
       "\n",
       "    .dataframe thead th {\n",
       "        text-align: right;\n",
       "    }\n",
       "</style>\n",
       "<table border=\"1\" class=\"dataframe\">\n",
       "  <thead>\n",
       "    <tr style=\"text-align: right;\">\n",
       "      <th></th>\n",
       "      <th>range</th>\n",
       "    </tr>\n",
       "  </thead>\n",
       "  <tbody>\n",
       "    <tr>\n",
       "      <th>max</th>\n",
       "      <td>0.000000</td>\n",
       "    </tr>\n",
       "    <tr>\n",
       "      <th>min</th>\n",
       "      <td>-62.087317</td>\n",
       "    </tr>\n",
       "  </tbody>\n",
       "</table>\n",
       "</div>"
      ],
      "text/plain": [
       "         range\n",
       "max   0.000000\n",
       "min -62.087317"
      ]
     },
     "execution_count": 65,
     "metadata": {},
     "output_type": "execute_result"
    }
   ],
   "source": [
    "df['extension_low'].agg(['max', 'min']).to_frame('range')"
   ]
  },
  {
   "cell_type": "code",
   "execution_count": 66,
   "metadata": {},
   "outputs": [
    {
     "data": {
      "text/html": [
       "<div>\n",
       "<style scoped>\n",
       "    .dataframe tbody tr th:only-of-type {\n",
       "        vertical-align: middle;\n",
       "    }\n",
       "\n",
       "    .dataframe tbody tr th {\n",
       "        vertical-align: top;\n",
       "    }\n",
       "\n",
       "    .dataframe thead th {\n",
       "        text-align: right;\n",
       "    }\n",
       "</style>\n",
       "<table border=\"1\" class=\"dataframe\">\n",
       "  <thead>\n",
       "    <tr style=\"text-align: right;\">\n",
       "      <th></th>\n",
       "      <th>range</th>\n",
       "    </tr>\n",
       "  </thead>\n",
       "  <tbody>\n",
       "    <tr>\n",
       "      <th>max</th>\n",
       "      <td>70.310872</td>\n",
       "    </tr>\n",
       "    <tr>\n",
       "      <th>min</th>\n",
       "      <td>0.000000</td>\n",
       "    </tr>\n",
       "  </tbody>\n",
       "</table>\n",
       "</div>"
      ],
      "text/plain": [
       "         range\n",
       "max  70.310872\n",
       "min   0.000000"
      ]
     },
     "execution_count": 66,
     "metadata": {},
     "output_type": "execute_result"
    }
   ],
   "source": [
    "df['extension_high'].agg(['max', 'min']).to_frame('range')"
   ]
  },
  {
   "cell_type": "markdown",
   "metadata": {},
   "source": [
    "- Visualization"
   ]
  },
  {
   "cell_type": "code",
   "execution_count": 77,
   "metadata": {},
   "outputs": [
    {
     "data": {
      "image/png": "[encoded data removed]",
      "text/plain": [
       "<Figure size 2000x600 with 1 Axes>"
      ]
     },
     "metadata": {},
     "output_type": "display_data"
    }
   ],
   "source": [
    "# Step 2: Calculate mean and standard deviation\n",
    "mean_high, std_dev_high = df['extension_high'].mean(), df['extension_high'].std()\n",
    "mean_low, std_dev_low = df['extension_low'].mean(), df['extension_low'].std()\n",
    "\n",
    "std_dev = max(std_dev_high, std_dev_low)\n",
    "\n",
    "n = 4\n",
    "\n",
    "# Step 3: Generate x values for the extension\n",
    "x = np.linspace(-n * std_dev, n * std_dev)\n",
    "y_high = norm.pdf(x, mean_high, std_dev_high)\n",
    "y_low = norm.pdf(x, mean_low, std_dev_low)\n",
    "\n",
    "# Step 4: Plot the extension_high\n",
    "plt.figure(figsize=(20, 6))\n",
    "\n",
    "plt.plot(x, y_high, label='extension high', color='blue')\n",
    "plt.plot(x, y_low, label='extension low', color='black')\n",
    "plt.hist(df['extension_high'], bins=50, density=True, alpha=0.3, color='green', label='Histogram high')\n",
    "plt.hist(df['extension_low'], bins=50, density=True, alpha=0.3, color='red', label='Histogram low')\n",
    "\n",
    "plt.title('extension_high of the Dataset')\n",
    "plt.xlabel('Swing deviation from mean')\n",
    "plt.ylabel('Proportion')\n",
    "plt.legend()\n",
    "plt.show()"
   ]
  }
 ],
 "metadata": {
  "kernelspec": {
   "display_name": "Python 3",
   "language": "python",
   "name": "python3"
  },
  "language_info": {
   "codemirror_mode": {
    "name": "ipython",
    "version": 3
   },
   "file_extension": ".py",
   "mimetype": "text/x-python",
   "name": "python",
   "nbconvert_exporter": "python",
   "pygments_lexer": "ipython3",
   "version": "3.10.12"
  }
 },
 "nbformat": 4,
 "nbformat_minor": 2
}
