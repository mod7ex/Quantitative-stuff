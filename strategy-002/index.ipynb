{
 "cells": [
  {
   "cell_type": "code",
   "execution_count": 118,
   "metadata": {},
   "outputs": [],
   "source": [
    "from matplotlib import pyplot as plt\n",
    "from matplotlib import dates as mpl_dates\n",
    "import yfinance as yf\n",
    "import pandas as pd\n",
    "import numpy as np\n",
    "import os\n",
    "from scipy.stats import norm\n",
    "\n",
    "plt.style.use('Solarize_Light2')"
   ]
  },
  {
   "cell_type": "markdown",
   "metadata": {},
   "source": [
    "### Constants"
   ]
  },
  {
   "cell_type": "code",
   "execution_count": 119,
   "metadata": {},
   "outputs": [],
   "source": [
    "WINDOW = 21\n",
    "\n",
    "n_ema = f\"{WINDOW}-EMA\""
   ]
  },
  {
   "cell_type": "markdown",
   "metadata": {},
   "source": [
    "### Loading data"
   ]
  },
  {
   "cell_type": "code",
   "execution_count": 120,
   "metadata": {},
   "outputs": [],
   "source": [
    "if os.path.exists(\"data.csv\"):\n",
    "    df = pd.read_csv(\"data.csv\", index_col=0)\n",
    "else:\n",
    "    gold_ticker = yf.Ticker(\"GC=F\")\n",
    "    df = gold_ticker.history(period=\"max\", interval='1h')\n",
    "    df.to_csv(\"data.csv\")\n",
    "\n",
    "df.index = pd.to_datetime(df.index, utc=True)\n",
    "\n",
    "df.drop(columns=['Volume', 'Dividends', 'Stock Splits'], inplace=True)\n",
    "df.columns = df.columns.str.lower()\n",
    "\n",
    "# display(df.shape)\n",
    "# display(df.head(3))"
   ]
  },
  {
   "cell_type": "markdown",
   "metadata": {},
   "source": [
    "### Creating needed metrics"
   ]
  },
  {
   "cell_type": "code",
   "execution_count": 121,
   "metadata": {},
   "outputs": [
    {
     "data": {
      "text/html": [
       "<div>\n",
       "<style scoped>\n",
       "    .dataframe tbody tr th:only-of-type {\n",
       "        vertical-align: middle;\n",
       "    }\n",
       "\n",
       "    .dataframe tbody tr th {\n",
       "        vertical-align: top;\n",
       "    }\n",
       "\n",
       "    .dataframe thead th {\n",
       "        text-align: right;\n",
       "    }\n",
       "</style>\n",
       "<table border=\"1\" class=\"dataframe\">\n",
       "  <thead>\n",
       "    <tr style=\"text-align: right;\">\n",
       "      <th></th>\n",
       "      <th>open</th>\n",
       "      <th>high</th>\n",
       "      <th>low</th>\n",
       "      <th>close</th>\n",
       "      <th>21-EMA</th>\n",
       "      <th>extension_high</th>\n",
       "      <th>extension_low</th>\n",
       "    </tr>\n",
       "    <tr>\n",
       "      <th>Datetime</th>\n",
       "      <th></th>\n",
       "      <th></th>\n",
       "      <th></th>\n",
       "      <th></th>\n",
       "      <th></th>\n",
       "      <th></th>\n",
       "      <th></th>\n",
       "    </tr>\n",
       "  </thead>\n",
       "  <tbody>\n",
       "    <tr>\n",
       "      <th>2024-09-30 13:00:00+00:00</th>\n",
       "      <td>2660.800049</td>\n",
       "      <td>2663.600098</td>\n",
       "      <td>2651.699951</td>\n",
       "      <td>2657.100098</td>\n",
       "      <td>2672.425360</td>\n",
       "      <td>0.0</td>\n",
       "      <td>-20.725409</td>\n",
       "    </tr>\n",
       "    <tr>\n",
       "      <th>2024-09-30 14:00:00+00:00</th>\n",
       "      <td>2657.000000</td>\n",
       "      <td>2657.899902</td>\n",
       "      <td>2650.199951</td>\n",
       "      <td>2655.000000</td>\n",
       "      <td>2670.841237</td>\n",
       "      <td>0.0</td>\n",
       "      <td>-20.641286</td>\n",
       "    </tr>\n",
       "    <tr>\n",
       "      <th>2024-09-30 15:00:00+00:00</th>\n",
       "      <td>2655.100098</td>\n",
       "      <td>2658.100098</td>\n",
       "      <td>2652.000000</td>\n",
       "      <td>2655.300049</td>\n",
       "      <td>2669.428401</td>\n",
       "      <td>0.0</td>\n",
       "      <td>-17.428401</td>\n",
       "    </tr>\n",
       "    <tr>\n",
       "      <th>2024-09-30 16:00:00+00:00</th>\n",
       "      <td>2655.500000</td>\n",
       "      <td>2661.000000</td>\n",
       "      <td>2654.899902</td>\n",
       "      <td>2660.800049</td>\n",
       "      <td>2668.644006</td>\n",
       "      <td>0.0</td>\n",
       "      <td>-13.744103</td>\n",
       "    </tr>\n",
       "    <tr>\n",
       "      <th>2024-09-30 17:00:00+00:00</th>\n",
       "      <td>2660.800049</td>\n",
       "      <td>2663.399902</td>\n",
       "      <td>2657.800049</td>\n",
       "      <td>2660.199951</td>\n",
       "      <td>2667.876364</td>\n",
       "      <td>0.0</td>\n",
       "      <td>-10.076316</td>\n",
       "    </tr>\n",
       "  </tbody>\n",
       "</table>\n",
       "</div>"
      ],
      "text/plain": [
       "                                  open         high          low        close  \\\n",
       "Datetime                                                                        \n",
       "2024-09-30 13:00:00+00:00  2660.800049  2663.600098  2651.699951  2657.100098   \n",
       "2024-09-30 14:00:00+00:00  2657.000000  2657.899902  2650.199951  2655.000000   \n",
       "2024-09-30 15:00:00+00:00  2655.100098  2658.100098  2652.000000  2655.300049   \n",
       "2024-09-30 16:00:00+00:00  2655.500000  2661.000000  2654.899902  2660.800049   \n",
       "2024-09-30 17:00:00+00:00  2660.800049  2663.399902  2657.800049  2660.199951   \n",
       "\n",
       "                                21-EMA  extension_high  extension_low  \n",
       "Datetime                                                               \n",
       "2024-09-30 13:00:00+00:00  2672.425360             0.0     -20.725409  \n",
       "2024-09-30 14:00:00+00:00  2670.841237             0.0     -20.641286  \n",
       "2024-09-30 15:00:00+00:00  2669.428401             0.0     -17.428401  \n",
       "2024-09-30 16:00:00+00:00  2668.644006             0.0     -13.744103  \n",
       "2024-09-30 17:00:00+00:00  2667.876364             0.0     -10.076316  "
      ]
     },
     "execution_count": 121,
     "metadata": {},
     "output_type": "execute_result"
    }
   ],
   "source": [
    "df[n_ema] = df['close'].ewm(span=WINDOW, adjust=False).mean()\n",
    "\n",
    "df['extension_high'] = np.where(df['high'] > df[n_ema], df['high'] - df[n_ema], 0)\n",
    "df['extension_low'] = np.where(df['low'] < df[n_ema], df['low'] - df[n_ema], 0)\n",
    "\n",
    "df.tail()"
   ]
  },
  {
   "cell_type": "markdown",
   "metadata": {},
   "source": [
    "### Looking for an Edge"
   ]
  },
  {
   "cell_type": "code",
   "execution_count": 122,
   "metadata": {},
   "outputs": [
    {
     "data": {
      "text/html": [
       "<div>\n",
       "<style scoped>\n",
       "    .dataframe tbody tr th:only-of-type {\n",
       "        vertical-align: middle;\n",
       "    }\n",
       "\n",
       "    .dataframe tbody tr th {\n",
       "        vertical-align: top;\n",
       "    }\n",
       "\n",
       "    .dataframe thead th {\n",
       "        text-align: right;\n",
       "    }\n",
       "</style>\n",
       "<table border=\"1\" class=\"dataframe\">\n",
       "  <thead>\n",
       "    <tr style=\"text-align: right;\">\n",
       "      <th></th>\n",
       "      <th>range</th>\n",
       "    </tr>\n",
       "  </thead>\n",
       "  <tbody>\n",
       "    <tr>\n",
       "      <th>min</th>\n",
       "      <td>-100.392343</td>\n",
       "    </tr>\n",
       "  </tbody>\n",
       "</table>\n",
       "</div>"
      ],
      "text/plain": [
       "          range\n",
       "min -100.392343"
      ]
     },
     "execution_count": 122,
     "metadata": {},
     "output_type": "execute_result"
    }
   ],
   "source": [
    "df['extension_low'].agg(['min']).to_frame('range')"
   ]
  },
  {
   "cell_type": "code",
   "execution_count": 123,
   "metadata": {},
   "outputs": [
    {
     "data": {
      "text/html": [
       "<div>\n",
       "<style scoped>\n",
       "    .dataframe tbody tr th:only-of-type {\n",
       "        vertical-align: middle;\n",
       "    }\n",
       "\n",
       "    .dataframe tbody tr th {\n",
       "        vertical-align: top;\n",
       "    }\n",
       "\n",
       "    .dataframe thead th {\n",
       "        text-align: right;\n",
       "    }\n",
       "</style>\n",
       "<table border=\"1\" class=\"dataframe\">\n",
       "  <thead>\n",
       "    <tr style=\"text-align: right;\">\n",
       "      <th></th>\n",
       "      <th>range</th>\n",
       "    </tr>\n",
       "  </thead>\n",
       "  <tbody>\n",
       "    <tr>\n",
       "      <th>max</th>\n",
       "      <td>73.828054</td>\n",
       "    </tr>\n",
       "  </tbody>\n",
       "</table>\n",
       "</div>"
      ],
      "text/plain": [
       "         range\n",
       "max  73.828054"
      ]
     },
     "execution_count": 123,
     "metadata": {},
     "output_type": "execute_result"
    }
   ],
   "source": [
    "df['extension_high'].agg(['max']).to_frame('range')"
   ]
  },
  {
   "cell_type": "markdown",
   "metadata": {},
   "source": [
    "- Visualization"
   ]
  },
  {
   "cell_type": "code",
   "execution_count": 124,
   "metadata": {},
   "outputs": [
    {
     "data": {
      "image/png": "[encoded data removed]",
      "text/plain": [
       "<Figure size 2000x600 with 1 Axes>"
      ]
     },
     "metadata": {},
     "output_type": "display_data"
    }
   ],
   "source": [
    "# Step 2: Calculate mean and standard deviation\n",
    "mean_high, std_dev_high = df['extension_high'].mean(), df['extension_high'].std()\n",
    "mean_low, std_dev_low = df['extension_low'].mean(), df['extension_low'].std()\n",
    "\n",
    "std_dev = max(std_dev_high, std_dev_low)\n",
    "\n",
    "n = 4\n",
    "\n",
    "# Step 3: Generate x values for the extension\n",
    "x = np.linspace(-n * std_dev, n * std_dev)\n",
    "y_high = norm.pdf(x, mean_high, std_dev_high)\n",
    "y_low = norm.pdf(x, mean_low, std_dev_low)\n",
    "\n",
    "# Step 4: Plot the extension_high\n",
    "plt.figure(figsize=(20, 6))\n",
    "\n",
    "plt.plot(x, y_high, label='extension high', color='blue')\n",
    "plt.plot(x, y_low, label='extension low', color='black')\n",
    "plt.hist(df['extension_high'], bins=80, density=True, alpha=0.3, color='green', label='Histogram high')\n",
    "plt.hist(df['extension_low'], bins=80, density=True, alpha=0.3, color='red', label='Histogram low')\n",
    "\n",
    "plt.title('extension_high of the Dataset')\n",
    "plt.xlabel('Swing deviation from mean')\n",
    "plt.ylabel('Proportion')\n",
    "plt.legend()\n",
    "plt.show()"
   ]
  },
  {
   "cell_type": "markdown",
   "metadata": {},
   "source": [
    "### Strategy"
   ]
  },
  {
   "cell_type": "code",
   "execution_count": 125,
   "metadata": {},
   "outputs": [],
   "source": [
    "PRICE_DEVIATION = {\n",
    "    'LOW': -75,\n",
    "    'HIGH': 60\n",
    "}\n",
    "\n",
    "TRADE_OPTIONS = {\n",
    "    'SL': 80,\n",
    "    'TP': 40\n",
    "}\n",
    "\n",
    "SIGNALS = {\n",
    "    'BUY': 1,\n",
    "    'SELL': -1\n",
    "}\n",
    "\n",
    "sell_filter = df['extension_high'] > PRICE_DEVIATION['HIGH']\n",
    "buy_filter = df['extension_low'] < PRICE_DEVIATION['LOW']\n",
    "\n",
    "df['Signal'] = 0  # Default to hold/no position\n",
    "df.loc[buy_filter, 'Signal'] = SIGNALS['BUY']  # Buy signal\n",
    "df.loc[sell_filter, 'Signal'] = SIGNALS['SELL']  # Sell signal"
   ]
  },
  {
   "cell_type": "code",
   "execution_count": 126,
   "metadata": {},
   "outputs": [],
   "source": [
    "df.reset_index(inplace=True)\n",
    "\n",
    "df['PnL'] = 0.0\n",
    "\n",
    "is_trade_on = False\n",
    "\n",
    "entry = 0.0\n",
    "sl = 0.0\n",
    "tp = 0.0\n",
    "\n",
    "def trade_off():\n",
    "    global is_trade_on\n",
    "    global entry\n",
    "    global sl\n",
    "\n",
    "    is_trade_on = False\n",
    "    entry = 0.0\n",
    "    sl = 0.0\n",
    "\n",
    "# Loop through candles and execute trades\n",
    "for i, row in df.iterrows(): # row for reading, i for writing\n",
    "    if is_trade_on:\n",
    "        is_long = tp - sl > 0\n",
    "        if is_long:\n",
    "            if row['low'] <= sl:\n",
    "                df.loc[i, 'PnL'] = -1\n",
    "                trade_off()\n",
    "            if row['high'] > tp:\n",
    "                df.loc[i, 'PnL'] = 1\n",
    "                trade_off()\n",
    "        else:\n",
    "            if row['high'] >= sl:\n",
    "                df.loc[i, 'PnL'] = -1\n",
    "                trade_off()\n",
    "            if row['low'] < tp:\n",
    "                df.loc[i, 'PnL'] = 1\n",
    "                trade_off()\n",
    "    else:\n",
    "        if row['Signal'] == SIGNALS['BUY']:\n",
    "            is_trade_on = True\n",
    "            entry = row[n_ema] + PRICE_DEVIATION['LOW']\n",
    "            sl = entry - TRADE_OPTIONS['SL']\n",
    "            tp = entry + TRADE_OPTIONS['TP']\n",
    "            if row['low'] <= sl: # instant check\n",
    "                df.loc[i, 'PnL'] = -1\n",
    "                trade_off()\n",
    "\n",
    "        if row['Signal'] == SIGNALS['SELL']:\n",
    "            is_trade_on = True\n",
    "            entry = row[n_ema] + PRICE_DEVIATION['HIGH']\n",
    "            sl = entry + TRADE_OPTIONS['SL']\n",
    "            sl = entry - TRADE_OPTIONS['TP']\n",
    "            if row['high'] >= sl: # instant check\n",
    "                df.loc[i, 'PnL'] = -1\n",
    "                trade_off()"
   ]
  },
  {
   "cell_type": "code",
   "execution_count": 127,
   "metadata": {},
   "outputs": [
    {
     "data": {
      "text/html": [
       "<div>\n",
       "<style scoped>\n",
       "    .dataframe tbody tr th:only-of-type {\n",
       "        vertical-align: middle;\n",
       "    }\n",
       "\n",
       "    .dataframe tbody tr th {\n",
       "        vertical-align: top;\n",
       "    }\n",
       "\n",
       "    .dataframe thead th {\n",
       "        text-align: right;\n",
       "    }\n",
       "</style>\n",
       "<table border=\"1\" class=\"dataframe\">\n",
       "  <thead>\n",
       "    <tr style=\"text-align: right;\">\n",
       "      <th></th>\n",
       "      <th>proportion</th>\n",
       "    </tr>\n",
       "    <tr>\n",
       "      <th>PnL</th>\n",
       "      <th></th>\n",
       "    </tr>\n",
       "  </thead>\n",
       "  <tbody>\n",
       "    <tr>\n",
       "      <th>0.0</th>\n",
       "      <td>0.999738</td>\n",
       "    </tr>\n",
       "    <tr>\n",
       "      <th>1.0</th>\n",
       "      <td>0.000175</td>\n",
       "    </tr>\n",
       "    <tr>\n",
       "      <th>-1.0</th>\n",
       "      <td>0.000087</td>\n",
       "    </tr>\n",
       "  </tbody>\n",
       "</table>\n",
       "</div>"
      ],
      "text/plain": [
       "      proportion\n",
       "PnL             \n",
       " 0.0    0.999738\n",
       " 1.0    0.000175\n",
       "-1.0    0.000087"
      ]
     },
     "execution_count": 127,
     "metadata": {},
     "output_type": "execute_result"
    }
   ],
   "source": [
    "df['PnL'].value_counts(normalize=True).to_frame()"
   ]
  },
  {
   "cell_type": "code",
   "execution_count": 128,
   "metadata": {},
   "outputs": [
    {
     "data": {
      "text/plain": [
       "3"
      ]
     },
     "execution_count": 128,
     "metadata": {},
     "output_type": "execute_result"
    }
   ],
   "source": [
    "df[df['PnL'] != 0]['PnL'].count()"
   ]
  },
  {
   "cell_type": "code",
   "execution_count": 129,
   "metadata": {},
   "outputs": [
    {
     "data": {
      "text/plain": [
       "1.0"
      ]
     },
     "execution_count": 129,
     "metadata": {},
     "output_type": "execute_result"
    }
   ],
   "source": [
    "df['Cumulative_PnL'] = df['PnL'].cumsum()\n",
    "\n",
    "df['Cumulative_PnL'].iloc[-1]"
   ]
  },
  {
   "cell_type": "code",
   "execution_count": 130,
   "metadata": {},
   "outputs": [
    {
     "data": {
      "image/png": "[encoded data removed]",
      "text/plain": [
       "<Figure size 2000x500 with 1 Axes>"
      ]
     },
     "metadata": {},
     "output_type": "display_data"
    }
   ],
   "source": [
    "df.set_index('Datetime', inplace=True)\n",
    "\n",
    "# Plot the Strategy returns\n",
    "df['Cumulative_PnL'].plot(\n",
    "        label='Strategy', \n",
    "        figsize=(20, 5), \n",
    "        color='blue', \n",
    "        xlabel='',\n",
    "        ylabel='RR | %'\n",
    "    )\n",
    "\n",
    "plt.gcf().autofmt_xdate()\n",
    "date_format = mpl_dates.DateFormatter(\"%b, %d %Y\")\n",
    "plt.gca().xaxis.set_major_formatter(date_format)"
   ]
  }
 ],
 "metadata": {
  "kernelspec": {
   "display_name": "Python 3",
   "language": "python",
   "name": "python3"
  },
  "language_info": {
   "codemirror_mode": {
    "name": "ipython",
    "version": 3
   },
   "file_extension": ".py",
   "mimetype": "text/x-python",
   "name": "python",
   "nbconvert_exporter": "python",
   "pygments_lexer": "ipython3",
   "version": "3.10.12"
  }
 },
 "nbformat": 4,
 "nbformat_minor": 2
}
