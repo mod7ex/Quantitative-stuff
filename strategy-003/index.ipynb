{
 "cells": [
  {
   "cell_type": "code",
   "execution_count": 34,
   "metadata": {},
   "outputs": [],
   "source": [
    "from matplotlib import pyplot as plt\n",
    "from matplotlib import dates as mpl_dates\n",
    "import yfinance as yf\n",
    "import pandas as pd\n",
    "import numpy as np\n",
    "import os\n",
    "import pandas_ta\n",
    "\n",
    "plt.style.use('Solarize_Light2')"
   ]
  },
  {
   "cell_type": "code",
   "execution_count": 35,
   "metadata": {},
   "outputs": [],
   "source": [
    "WINDOW = 21\n",
    "\n",
    "# n_low_col = f\"{WINDOW}-Low\"\n",
    "\n",
    "# n_high_col = f\"{WINDOW}-Low\"\n",
    "\n",
    "n_ema_col = f\"{WINDOW}-EMA\""
   ]
  },
  {
   "cell_type": "code",
   "execution_count": 36,
   "metadata": {},
   "outputs": [],
   "source": [
    "if os.path.exists(\"data.csv\"):\n",
    "    df = pd.read_csv(\"data.csv\", index_col=0)\n",
    "else:\n",
    "    gold_ticker = yf.Ticker(\"GC=F\")\n",
    "    df = gold_ticker.history(period=\"max\", interval='1h')\n",
    "    df.to_csv(\"data.csv\")\n",
    "\n",
    "df.index = pd.to_datetime(df.index, utc=True)\n",
    "\n",
    "df.drop(columns=['Volume', 'Dividends', 'Stock Splits'], inplace=True)\n",
    "df.columns = df.columns.str.lower()\n",
    "\n",
    "# display(df.shape)\n",
    "# display(df.head(3))"
   ]
  },
  {
   "cell_type": "code",
   "execution_count": 37,
   "metadata": {},
   "outputs": [],
   "source": [
    "# df[n_low_col] = df['low'].rolling(WINDOW).min()\n",
    "\n",
    "# df[n_high_col] = df['low'].rolling(WINDOW).max()\n",
    "\n",
    "df[n_ema_col] = df['close'].ewm(span=WINDOW, adjust=False).mean()\n",
    "\n",
    "# df[\"200-EMA\"] = df['close'].ewm(span=200, adjust=False).mean()"
   ]
  },
  {
   "cell_type": "code",
   "execution_count": 38,
   "metadata": {},
   "outputs": [],
   "source": [
    "# df['previous_close'] = df['close'].shift(1)\n",
    "\n",
    "# # Calculate True Range (TR)\n",
    "# df['TR1'] = df['high'] - df['low']\n",
    "# df['TR2'] = (df['high'] - df['previous_close']).abs() # in case of gaps\n",
    "# df['TR3'] = (df['low'] - df['previous_close']).abs() # in case of gaps\n",
    "\n",
    "# df['TR'] = df[['TR1', 'TR2', 'TR3']].max(axis=1)\n",
    "\n",
    "# # Calculate the Average True Range (ATR)\n",
    "# df['ATR'] = df['TR'].rolling(window=WINDOW).mean()"
   ]
  },
  {
   "cell_type": "code",
   "execution_count": 39,
   "metadata": {},
   "outputs": [],
   "source": [
    "# df.dropna(inplace=True)\n",
    "\n",
    "# df.head()"
   ]
  },
  {
   "cell_type": "code",
   "execution_count": 40,
   "metadata": {},
   "outputs": [],
   "source": [
    "# buy_filter = (df['close'] < df['200-EMA']) & (df['close'] < df[n_low_col])\n",
    "# # sell_filter = df['Close'] > df[n_high_col]\n",
    "\n",
    "# df['signal'] = 0  # Default to hold/no position\n",
    "# df.loc[buy_filter, 'signal'] = 1 # Buy signal\n",
    "\n",
    "# # df.loc[sell_filter, 'signal'] = -1  # Sell signal"
   ]
  },
  {
   "cell_type": "code",
   "execution_count": 41,
   "metadata": {},
   "outputs": [],
   "source": [
    "# df['PnL'] = 0.0\n",
    "\n",
    "# is_trade_on = False\n",
    "\n",
    "# entry = 0.0\n",
    "# sl = 0.0\n",
    "\n",
    "# def trade_off():\n",
    "#     global is_trade_on\n",
    "#     global entry\n",
    "#     global sl\n",
    "\n",
    "#     is_trade_on = False\n",
    "#     entry = 0.0\n",
    "#     sl = 0.0\n",
    "\n",
    "# # Loop through candles and execute trades\n",
    "# for i, row in df.iterrows(): # row for reading, i for writing\n",
    "#     if is_trade_on:\n",
    "#         if row['close'] > row[n_high_col]:\n",
    "#             df.loc[i, 'PnL'] = (row[n_high_col] - entry)/(entry - sl)\n",
    "#             trade_off()\n",
    "#         if row['low'] < sl:\n",
    "#             df.loc[i, 'PnL'] = -1\n",
    "#             trade_off()\n",
    "#     else:\n",
    "#         if row['signal'] == 1:\n",
    "#             is_trade_on = True\n",
    "#             entry = row['close']\n",
    "#             sl = entry - row['ATR']\n",
    "\n",
    "#             if row['low'] <= sl: # instant check\n",
    "#                 df.loc[i, 'PnL'] = -1\n",
    "#                 trade_off()"
   ]
  },
  {
   "cell_type": "code",
   "execution_count": 42,
   "metadata": {},
   "outputs": [],
   "source": [
    "# df['Cumulative_PnL'] = df['PnL'].cumsum()"
   ]
  },
  {
   "cell_type": "code",
   "execution_count": 43,
   "metadata": {},
   "outputs": [],
   "source": [
    "# # Plot the Strategy returns\n",
    "# df['Cumulative_PnL'].plot(\n",
    "#         label='Strategy', \n",
    "#         figsize=(20, 5), \n",
    "#         color='blue', \n",
    "#         xlabel='',\n",
    "#         ylabel='RR | %'\n",
    "#     )\n",
    "\n",
    "# plt.gcf().autofmt_xdate()\n",
    "# date_format = mpl_dates.DateFormatter(\"%b, %d %Y\")\n",
    "# plt.gca().xaxis.set_major_formatter(date_format)"
   ]
  },
  {
   "cell_type": "code",
   "execution_count": 44,
   "metadata": {},
   "outputs": [],
   "source": [
    "# df[df['PnL'] != 0]"
   ]
  }
 ],
 "metadata": {
  "kernelspec": {
   "display_name": "Python 3",
   "language": "python",
   "name": "python3"
  },
  "language_info": {
   "codemirror_mode": {
    "name": "ipython",
    "version": 3
   },
   "file_extension": ".py",
   "mimetype": "text/x-python",
   "name": "python",
   "nbconvert_exporter": "python",
   "pygments_lexer": "ipython3",
   "version": "3.10.12"
  }
 },
 "nbformat": 4,
 "nbformat_minor": 2
}
